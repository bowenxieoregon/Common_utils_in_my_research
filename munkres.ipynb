{
 "cells": [
  {
   "cell_type": "code",
   "execution_count": 1,
   "metadata": {},
   "outputs": [],
   "source": [
    "import numpy as np\n",
    "from numpy.linalg import norm\n",
    "A = np.array([[1,1,4,100,10,0],\n",
    "              [0,5,9,300,8,0],\n",
    "              [1,7,4,10,1,0]])\n",
    "\n",
    "A_per = np.array([[0,2,1,8,5,2],\n",
    "                  [0,0,3,18,4,10],\n",
    "                  [0,2,0.1,8,0.5,14]])"
   ]
  },
  {
   "cell_type": "code",
   "execution_count": 2,
   "metadata": {},
   "outputs": [],
   "source": [
    "from munkres import Munkres\n",
    "import numpy as np\n",
    "from numpy.linalg import norm\n",
    "'''\n",
    "Compute:\n",
    "       errW = min_perm ||W - West(:,perm)||_F / ||W||_F\n",
    "'''\n",
    "def col_normalization_l2(W):\n",
    "    norms = np.linalg.norm(W, axis=0)\n",
    "    norms[norms==0] = 1\n",
    "    W_normalized = W / norms[None,:]\n",
    "    return W_normalized\n",
    "\n",
    "'''\n",
    "This is actually computing MSE between W and West (2-norm)\n",
    "'''\n",
    "def compareWs_fast_l2(W,West):\n",
    "    r = W.shape[1]\n",
    "    W_temp = col_normalization_l2(W)\n",
    "    West_temp = col_normalization_l2(West)\n",
    "    W_expanded = W_temp[:,:,None]\n",
    "    West_expanded = West_temp[:,None,:]\n",
    "    DIST = np.sum((W_expanded - West_expanded)**2, axis=0)\n",
    "    m = Munkres()\n",
    "    indexes = m.compute(DIST)\n",
    "    print(indexes)\n",
    "    row_indexes, col_indexes = zip(*indexes)\n",
    "    W_reordered = W[:,row_indexes]\n",
    "    West_reordered = West[:,col_indexes]\n",
    "    return W_reordered, West_reordered"
   ]
  },
  {
   "cell_type": "code",
   "execution_count": 3,
   "metadata": {},
   "outputs": [
    {
     "name": "stdout",
     "output_type": "stream",
     "text": [
      "[(0, 1), (1, 5), (2, 3), (3, 2), (4, 4), (5, 0)]\n",
      "[[  1   1   4 100  10   0]\n",
      " [  0   5   9 300   8   0]\n",
      " [  1   7   4  10   1   0]]\n",
      "\n",
      "\n",
      "[[ 2.   2.   8.   1.   5.   0. ]\n",
      " [ 0.  10.  18.   3.   4.   0. ]\n",
      " [ 2.  14.   8.   0.1  0.5  0. ]]\n"
     ]
    }
   ],
   "source": [
    "W_new, West_new = compareWs_fast_l2(A,A_per)\n",
    "# rel = compareWs(A,A_per)\n",
    "\n",
    "print(W_new)\n",
    "print(\"\\n\")\n",
    "print(West_new)"
   ]
  },
  {
   "cell_type": "code",
   "execution_count": 43,
   "metadata": {},
   "outputs": [],
   "source": [
    "from munkres import Munkres\n",
    "import numpy as np\n",
    "from numpy.linalg import norm\n",
    "\n",
    "\n",
    "def col_normalization_l1(W):\n",
    "    norms = np.linalg.norm(W, axis=0,ord = 1)\n",
    "    norms[norms==0] = 1\n",
    "    W_normalized = W / norms[None,:]\n",
    "    return W_normalized\n",
    "\n",
    "'''\n",
    "This is actually computing NAE between W and West (1-norm)\n",
    "'''\n",
    "def compareWs_fast_l1(W,West):\n",
    "    r = W.shape[1]\n",
    "    W_temp = col_normalization_l1(W)\n",
    "    West_temp = col_normalization_l1(West)\n",
    "    W_expanded = W_temp[:,:,None]\n",
    "    West_expanded = West_temp[:,None,:]\n",
    "    DIST = np.sum(np.abs(W_expanded - West_expanded), axis=0)\n",
    "    m = Munkres()\n",
    "    indexes = m.compute(DIST)\n",
    "    print(indexes)\n",
    "    row_indexes, col_indexes = zip(*indexes)\n",
    "    W_reordered = W[:,row_indexes]\n",
    "    West_reordered = West[:,col_indexes]\n",
    "    return W_reordered, West_reordered"
   ]
  },
  {
   "cell_type": "code",
   "execution_count": 44,
   "metadata": {},
   "outputs": [
    {
     "name": "stdout",
     "output_type": "stream",
     "text": [
      "[(0, 1), (1, 5), (2, 3), (3, 2), (4, 4), (5, 0)]\n",
      "[[  1   1   4 100  10   0]\n",
      " [  0   5   9 300   8   0]\n",
      " [  1   7   4  10   1   0]]\n",
      "\n",
      "\n",
      "[[ 2.   2.   8.   1.   5.   0. ]\n",
      " [ 0.  10.  18.   3.   4.   0. ]\n",
      " [ 2.  14.   8.   0.1  0.5  0. ]]\n"
     ]
    }
   ],
   "source": [
    "W_new, West_new = compareWs_fast_l1(A,A_per)\n",
    "# rel = compareWs(A,A_per)\n",
    "\n",
    "print(W_new)\n",
    "print(\"\\n\")\n",
    "print(West_new)"
   ]
  }
 ],
 "metadata": {
  "kernelspec": {
   "display_name": "base",
   "language": "python",
   "name": "python3"
  },
  "language_info": {
   "codemirror_mode": {
    "name": "ipython",
    "version": 3
   },
   "file_extension": ".py",
   "mimetype": "text/x-python",
   "name": "python",
   "nbconvert_exporter": "python",
   "pygments_lexer": "ipython3",
   "version": "3.10.13"
  }
 },
 "nbformat": 4,
 "nbformat_minor": 2
}
